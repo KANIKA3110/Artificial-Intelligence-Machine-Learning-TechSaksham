{
 "cells": [
  {
   "cell_type": "markdown",
   "id": "81db2937",
   "metadata": {},
   "source": [
    "# TechSaksham (AI and ML Track) - Final Practical Examination"
   ]
  },
  {
   "cell_type": "markdown",
   "id": "906898ee",
   "metadata": {},
   "source": [
    "# "
   ]
  },
  {
   "cell_type": "markdown",
   "id": "8aa4ad56",
   "metadata": {},
   "source": [
    "# Submitted By - Kanika Joshi"
   ]
  },
  {
   "cell_type": "markdown",
   "id": "c013aeff",
   "metadata": {},
   "source": [
    "# Roll No: 01320902719"
   ]
  },
  {
   "cell_type": "markdown",
   "id": "ec90c585",
   "metadata": {},
   "source": [
    "# BTech (Computer Science Engineering), 3rd Year"
   ]
  },
  {
   "cell_type": "markdown",
   "id": "46d709dd",
   "metadata": {},
   "source": [
    "# G B Pant Govt Engineering College(GBPEC), Delhi"
   ]
  },
  {
   "cell_type": "markdown",
   "id": "888174cb",
   "metadata": {},
   "source": [
    "# "
   ]
  },
  {
   "cell_type": "markdown",
   "id": "c0f0d40b",
   "metadata": {},
   "source": [
    "# Alotted Ques = Question 10:"
   ]
  },
  {
   "cell_type": "markdown",
   "id": "eedde0b3",
   "metadata": {},
   "source": [
    "        Q10) a) Write a Python program that prints all the numbers from 10 to 16 except 13 and 16.\n",
    "        \n",
    "             b) Write a Python function to calculate the factorial of a number (a non-negative integer). \n",
    "                The function accepts the number as an argument \n",
    "                \n",
    "             c) Write a Python program to split the text sentence or paragraph into a list of words. \n",
    "                After that remove the stop words, remove the punctuations."
   ]
  },
  {
   "cell_type": "markdown",
   "id": "7d28741f",
   "metadata": {},
   "source": [
    "# Solution:"
   ]
  },
  {
   "cell_type": "markdown",
   "id": "713c65ed",
   "metadata": {},
   "source": [
    "# a) Write a Python program that prints all the numbers from 10 to 16 except 13 and 16."
   ]
  },
  {
   "cell_type": "code",
   "execution_count": 13,
   "id": "015468b9",
   "metadata": {},
   "outputs": [
    {
     "name": "stdout",
     "output_type": "stream",
     "text": [
      "The numbers are:- \n",
      "10\n",
      "11\n",
      "12\n",
      "14\n",
      "15\n"
     ]
    }
   ],
   "source": [
    "if __name__==\"__main__\":\n",
    "    start_range=10      #setting start and end ranges as 10 and 16 respectively\n",
    "    end_range=16\n",
    "    print(\"The numbers are:- \")\n",
    "    for i in range(start_range,end_range+1):    #loop to print all and skip if 13 or 16\n",
    "        if (i==13 or i==16):\n",
    "            continue\n",
    "        else:\n",
    "            print(i)"
   ]
  },
  {
   "cell_type": "markdown",
   "id": "4fdc1df7",
   "metadata": {},
   "source": [
    "# "
   ]
  },
  {
   "cell_type": "markdown",
   "id": "73ae9cbc",
   "metadata": {},
   "source": [
    "# b) Write a Python function to calculate the factorial of a number (a non-negative integer). The function accepts the number as an argument."
   ]
  },
  {
   "cell_type": "code",
   "execution_count": 18,
   "id": "8ae6cfcd",
   "metadata": {},
   "outputs": [
    {
     "name": "stdout",
     "output_type": "stream",
     "text": [
      "Enter the non-negative number:- 5\n",
      "The Factorial of the given number is:- 120\n"
     ]
    }
   ],
   "source": [
    "def Factorial(num):                              #Function to calculate Factorial\n",
    "    fact=1                                       #Declaring variable to store result\n",
    "    \n",
    "    for i in range(1,num+1):                     #calculating factorial using for loop\n",
    "        fact=fact*i\n",
    "         \n",
    "    return fact                                  #returning factorial of the given input\n",
    "\n",
    "\n",
    "\n",
    "if __name__==\"__main__\":\n",
    "    number=int(input(\"Enter the non-negative number:- \"))            #Taking input from user\n",
    "    if number < 0:    \n",
    "           print(\" Factorial does not exist for negative numbers\")    \n",
    "    elif number == 0:    \n",
    "           print(\"The factorial of 0 is 1\")    \n",
    "    else:    \n",
    "        fact=Factorial(number)                                           #Storing the result return by factorial function\n",
    "        print(\"The Factorial of the given number is:-\",fact)             #Displaying the output"
   ]
  },
  {
   "cell_type": "markdown",
   "id": "b85da50a",
   "metadata": {},
   "source": [
    "# "
   ]
  },
  {
   "cell_type": "markdown",
   "id": "affbdb82",
   "metadata": {},
   "source": [
    "# c) Write a Python program to split the text sentence or paragraph into a list of words. After that remove the stop words, remove the punctuations."
   ]
  },
  {
   "cell_type": "markdown",
   "id": "52db520d",
   "metadata": {},
   "source": [
    "Sample text: This movie is very scary and lengthy. It is spooky and good. It is slow."
   ]
  },
  {
   "cell_type": "code",
   "execution_count": 4,
   "id": "962ce1d5",
   "metadata": {},
   "outputs": [],
   "source": [
    "from sklearn.feature_extraction.text import TfidfVectorizer"
   ]
  },
  {
   "cell_type": "code",
   "execution_count": 5,
   "id": "6bbebcff",
   "metadata": {},
   "outputs": [
    {
     "name": "stdout",
     "output_type": "stream",
     "text": [
      "Enter Your Sentence or paragraph:- This movie is very scary and lengthy. It is spooky and good. It is slow.\n"
     ]
    },
    {
     "ename": "AttributeError",
     "evalue": "'TfidfVectorizer' object has no attribute 'get_feature_names_out'",
     "output_type": "error",
     "traceback": [
      "\u001b[1;31m---------------------------------------------------------------------------\u001b[0m",
      "\u001b[1;31mAttributeError\u001b[0m                            Traceback (most recent call last)",
      "\u001b[1;32m~\\AppData\\Local\\Temp/ipykernel_15804/1591900940.py\u001b[0m in \u001b[0;36m<module>\u001b[1;34m\u001b[0m\n\u001b[0;32m     19\u001b[0m     \u001b[0mvectorizer\u001b[0m\u001b[1;33m=\u001b[0m\u001b[0mTfidfVectorizer\u001b[0m\u001b[1;33m(\u001b[0m\u001b[0mstop_words\u001b[0m\u001b[1;33m=\u001b[0m\u001b[0mstop_words\u001b[0m\u001b[1;33m)\u001b[0m\u001b[1;33m\u001b[0m\u001b[1;33m\u001b[0m\u001b[0m\n\u001b[0;32m     20\u001b[0m     \u001b[0mX\u001b[0m\u001b[1;33m=\u001b[0m\u001b[0mvectorizer\u001b[0m\u001b[1;33m.\u001b[0m\u001b[0mfit_transform\u001b[0m\u001b[1;33m(\u001b[0m\u001b[0mstring_list\u001b[0m\u001b[1;33m)\u001b[0m\u001b[1;33m\u001b[0m\u001b[1;33m\u001b[0m\u001b[0m\n\u001b[1;32m---> 21\u001b[1;33m     \u001b[0mvectorizer\u001b[0m\u001b[1;33m.\u001b[0m\u001b[0mget_feature_names_out\u001b[0m\u001b[1;33m(\u001b[0m\u001b[1;33m)\u001b[0m\u001b[1;33m\u001b[0m\u001b[1;33m\u001b[0m\u001b[0m\n\u001b[0m",
      "\u001b[1;31mAttributeError\u001b[0m: 'TfidfVectorizer' object has no attribute 'get_feature_names_out'"
     ]
    }
   ],
   "source": [
    "#Method 1: \n",
    "if __name__==\"__main__\":\n",
    "    string=input(\"Enter Your Sentence or paragraph:- \").lower()                   #Taking the input from user\n",
    "                                                       \n",
    "    punctuations = '''!@#$%^&*()-[]{}<>;:'\"\\,./?_~'''                             #Listing all punctuations\n",
    "    stop_words={'a','about','above','after','again','against','all','am','an', 'the','and','any','are','aren','as','at','be',\n",
    "                'because','been''before','being','below','between','both','but','by','can','couldn','d','did','didn',\n",
    "                'do','does','doesn','doing','don','down','during','each','few','for','from','further','had','hadn',\n",
    "                'has','hasn','have','having','he','her','here','hers','herself','him','himself','his','how','i','if',\n",
    "                'in','into','is','isn',\"isn't\",'it',\"it's\",'its','itself','just','ll','m','ma','me','more','most','my',\n",
    "                'myself','no','nor','not','now','of','off','on','once','only','or','other','our','ours','ourselves',\n",
    "                'out','over','own','same','she','where','which','while','who','whom','why','will','with','won',\"won't\",\n",
    "                'wouldn','you','your','yours','yourself','yourselves'}            #Storing all stop words in local variable\n",
    "    \n",
    "    for char in string:                                                           #Removing all punctuations\n",
    "        if char in punctuations:\n",
    "            string=string.replace(char,\"\")\n",
    "            \n",
    "    string_list=string.split()                                                    #Spliting the string into list\n",
    "    vectorizer=TfidfVectorizer(stop_words=stop_words)\n",
    "    X=vectorizer.fit_transform(string_list)\n",
    "    vectorizer.get_feature_names_out()\n",
    "    \n",
    "#error encountered in method 1 due to issues with working of sklearn library"
   ]
  },
  {
   "cell_type": "markdown",
   "id": "240cc3a3",
   "metadata": {},
   "source": [
    "# "
   ]
  },
  {
   "cell_type": "code",
   "execution_count": 3,
   "id": "e38f35b9",
   "metadata": {},
   "outputs": [
    {
     "name": "stdout",
     "output_type": "stream",
     "text": [
      "Enter Your Sentence or paragraph:- This movie is very scary and lengthy. It is spooky and good. It is not scary and slow.\n",
      "\n",
      "The Final List after removing punctuations and stop words is :- \n",
      "\n",
      " ['this', 'movie', 'very', 'scary', 'lengthy', 'spooky', 'good', 'scary', 'slow']\n"
     ]
    }
   ],
   "source": [
    "#Method 2:\n",
    "if __name__==\"__main__\":\n",
    "    string=input(\"Enter Your Sentence or paragraph:- \").lower()                   #Taking the input from user\n",
    "                                                       \n",
    "    punctuations = '''!@#$%^&*()-[]{}<>;:'\"\\,./?_~'''                             #Listing all punctuations\n",
    "    stop_words={'a','about','above','after','again','against','all','am','an', 'the','and','any','are','aren','as','at','be',\n",
    "                'because','been''before','being','below','between','both','but','by','can','couldn','d','did','didn',\n",
    "                'do','does','doesn','doing','don','down','during','each','few','for','from','further','had','hadn',\n",
    "                'has','hasn','have','having','he','her','here','hers','herself','him','himself','his','how','i','if',\n",
    "                'in','into','is','isn',\"isn't\",'it',\"it's\",'its','itself','just','ll','m','ma','me','more','most','my',\n",
    "                'myself','no','nor','not','now','of','off','on','once','only','or','other','our','ours','ourselves',\n",
    "                'out','over','own','same','she','where','which','while','who','whom','why','will','with','won',\"won't\",\n",
    "                'wouldn','you','your','yours','yourself','yourselves'}            #Storing all stop words in local variable\n",
    "    \n",
    "    for char in string:                                                           #Removing all punctuations\n",
    "        if char in punctuations:\n",
    "            string=string.replace(char,\"\")\n",
    "            \n",
    "    string_list=string.split()                                                    #Spliting the string into list\n",
    "    \n",
    "    result=[]                                                                     #Local variable to store result\n",
    "    \n",
    "    for words in string_list:                                                     #Removing stop words\n",
    "        if words not in stop_words:\n",
    "            result.append(words)\n",
    "            \n",
    "    print(\"\\nThe Final List after removing punctuations and stop words is :- \\n\\n\",result)          #Displaying the output"
   ]
  },
  {
   "cell_type": "code",
   "execution_count": null,
   "id": "93f0d104",
   "metadata": {},
   "outputs": [],
   "source": []
  },
  {
   "cell_type": "markdown",
   "id": "c37c8aa6",
   "metadata": {},
   "source": [
    "# "
   ]
  },
  {
   "cell_type": "markdown",
   "id": "49e63a55",
   "metadata": {},
   "source": [
    "# "
   ]
  }
 ],
 "metadata": {
  "kernelspec": {
   "display_name": "Python 3 (ipykernel)",
   "language": "python",
   "name": "python3"
  },
  "language_info": {
   "codemirror_mode": {
    "name": "ipython",
    "version": 3
   },
   "file_extension": ".py",
   "mimetype": "text/x-python",
   "name": "python",
   "nbconvert_exporter": "python",
   "pygments_lexer": "ipython3",
   "version": "3.9.7"
  }
 },
 "nbformat": 4,
 "nbformat_minor": 5
}
